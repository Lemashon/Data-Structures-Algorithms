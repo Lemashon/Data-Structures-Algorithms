{
 "cells": [
  {
   "cell_type": "code",
   "execution_count": 57,
   "metadata": {},
   "outputs": [],
   "source": [
    "#python List Comprehensions\n",
    "\n",
    "import random"
   ]
  },
  {
   "cell_type": "code",
   "execution_count": null,
   "metadata": {},
   "outputs": [],
   "source": []
  },
  {
   "cell_type": "markdown",
   "metadata": {},
   "source": []
  },
  {
   "cell_type": "code",
   "execution_count": 58,
   "metadata": {},
   "outputs": [
    {
     "name": "stdout",
     "output_type": "stream",
     "text": [
      "under_10: [0, 1, 2, 3, 4, 5, 6, 7, 8, 9]\n"
     ]
    }
   ],
   "source": [
    "#get values in a range\n",
    "\n",
    "under_10 = [x for x in range(10)]\n",
    "print('under_10: ' + str(under_10))"
   ]
  },
  {
   "cell_type": "code",
   "execution_count": 59,
   "metadata": {},
   "outputs": [
    {
     "name": "stdout",
     "output_type": "stream",
     "text": [
      "squares: [0, 1, 4, 9, 16, 25, 36, 49, 64, 81]\n"
     ]
    }
   ],
   "source": [
    "#get squared values\n",
    "\n",
    "squares = [x**2 for x in under_10]\n",
    "print('squares: ' + str(squares))"
   ]
  },
  {
   "cell_type": "markdown",
   "metadata": {},
   "source": []
  },
  {
   "cell_type": "code",
   "execution_count": 60,
   "metadata": {},
   "outputs": [
    {
     "name": "stdout",
     "output_type": "stream",
     "text": [
      "odds: [1, 3, 5, 7, 9]\n"
     ]
    }
   ],
   "source": [
    "#get odd numbers using mod\n",
    "odds = [x for x in range(10) if x%2 != 0]\n",
    "print('odds: ' + str(odds))\n"
   ]
  },
  {
   "cell_type": "code",
   "execution_count": 61,
   "metadata": {},
   "outputs": [
    {
     "name": "stdout",
     "output_type": "stream",
     "text": [
      "ten_x: [0, 10, 20, 30, 40, 50, 60, 70, 80, 90]\n"
     ]
    }
   ],
   "source": [
    "#get multiples of 10\n",
    "ten_x = [x * 10 for x in range(10)]\n",
    "print('ten_x: ' + str(ten_x))"
   ]
  },
  {
   "cell_type": "code",
   "execution_count": 62,
   "metadata": {},
   "outputs": [
    {
     "name": "stdout",
     "output_type": "stream",
     "text": [
      "nums: 2073\n"
     ]
    }
   ],
   "source": [
    "#get all numbers from a string\n",
    "s = 'I love 2 go t0 the store 7 times a w3ek.'\n",
    "nums = [x for x in s if x.isnumeric()]\n",
    "print('nums: ' + ''.join(nums))\n"
   ]
  },
  {
   "cell_type": "code",
   "execution_count": 63,
   "metadata": {},
   "outputs": [
    {
     "name": "stdout",
     "output_type": "stream",
     "text": [
      "index = 2\n"
     ]
    }
   ],
   "source": [
    "#get index of a list item \n",
    "names = ['Cosmo', 'Pedro', 'Anu', 'Ray']\n",
    "idx = [k for k, v in enumerate(names) if v == 'Anu']\n",
    "print('index = ' + str(idx[0]))"
   ]
  },
  {
   "cell_type": "markdown",
   "metadata": {},
   "source": [
    "#delete an item from list\n",
    "\n",
    "letters = [x for x in 'ABCDEF']\n",
    "random.shuffle(letters)\n",
    "letrs = [a for a in letters if a !='C]\n",
    "print(letters, letrs)"
   ]
  },
  {
   "cell_type": "code",
   "execution_count": 64,
   "metadata": {},
   "outputs": [
    {
     "name": "stdout",
     "output_type": "stream",
     "text": [
      "['B', 'D', 'C', 'A', 'F', 'E'] ['B', 'D', 'A', 'F', 'E']\n"
     ]
    }
   ],
   "source": [
    "#delete an item from a list\n",
    "letters = [x for x in 'ABCDEF']\n",
    "random.shuffle(letters)\n",
    "letrs= [a for a in letters if a != 'C']\n",
    "print(letters, letrs)"
   ]
  },
  {
   "cell_type": "code",
   "execution_count": 65,
   "metadata": {},
   "outputs": [
    {
     "name": "stdout",
     "output_type": "stream",
     "text": [
      "new list: [50, 30, 10, 18]\n"
     ]
    }
   ],
   "source": [
    "#if-else condition in a comprehension\n",
    "nums = [5, 3, 10, 18,]\n",
    "new_list = [x if x%2 == 0 else 10*x for x in nums]\n",
    "print('new list: ' + str(new_list))"
   ]
  },
  {
   "cell_type": "code",
   "execution_count": 66,
   "metadata": {},
   "outputs": [
    {
     "name": "stdout",
     "output_type": "stream",
     "text": [
      "[1, 2, 3, 4]\n"
     ]
    }
   ],
   "source": [
    "#nested loop iteration for 2D list\n",
    "a = [[1,2],[3,4]]\n",
    "new_list = [ x for b in a for x in b ]\n",
    "print(new_list)"
   ]
  },
  {
   "cell_type": "markdown",
   "metadata": {},
   "source": []
  },
  {
   "cell_type": "markdown",
   "metadata": {},
   "source": []
  }
 ],
 "metadata": {
  "kernelspec": {
   "display_name": "Python 3.9.13 64-bit (microsoft store)",
   "language": "python",
   "name": "python3"
  },
  "language_info": {
   "codemirror_mode": {
    "name": "ipython",
    "version": 3
   },
   "file_extension": ".py",
   "mimetype": "text/x-python",
   "name": "python",
   "nbconvert_exporter": "python",
   "pygments_lexer": "ipython3",
   "version": "3.9.13"
  },
  "orig_nbformat": 4,
  "vscode": {
   "interpreter": {
    "hash": "07c3a98431b513a05678a4f58a817834c9b5da7a769e43c202a273289ce50c45"
   }
  }
 },
 "nbformat": 4,
 "nbformat_minor": 2
}
